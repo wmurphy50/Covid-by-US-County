{
 "cells": [
  {
   "cell_type": "code",
   "execution_count": 11,
   "metadata": {},
   "outputs": [],
   "source": [
    "import pandas as pd\n",
    "import numpy as np\n",
    "from sklearn.linear_model import LinearRegression\n",
    "import statsmodels.api as sm\n",
    "import matplotlib.pyplot as plt\n",
    "from sklearn.preprocessing import StandardScaler"
   ]
  },
  {
   "cell_type": "code",
   "execution_count": 12,
   "metadata": {},
   "outputs": [],
   "source": [
    "df= pd.read_csv(\"Dataset_626.csv\")"
   ]
  },
  {
   "cell_type": "code",
   "execution_count": 13,
   "metadata": {},
   "outputs": [],
   "source": [
    "column_means=df.mean()\n",
    "cleanerdf=df.fillna(column_means)\n",
    "\n",
    "# replacing null values with the attribute mean"
   ]
  },
  {
   "cell_type": "code",
   "execution_count": 14,
   "metadata": {},
   "outputs": [],
   "source": [
    "\n",
    "xcolumns=[\"% Fair or Poor Health\",\"60plus_pct\",\"all_icu\",\"hospitals_in_cost_reports\",\"% Rural\",\"% Female\",\"% Not Proficient in English\",\"% Non-Hispanic White\",\"% Hispanic\",\"Average Number of Physically Unhealthy Days\",\"Average Number of Mentally Unhealthy Days\",\"% Smokers\",\"% Adults with Obesity\",\"% Physically Inactive\",\"% Excessive Drinking\",\"% Uninsured\",\"% Vaccinated\",\"% Completed High School\",\"% Some College\",\"% Unemployed\",\"% Children in Poverty\",\"% Children in Single-Parent Households\",\"Social Association Rate\",\"% Severe Housing Problems\",\"% Drive Alone to Work\",\"% Frequent Physical Distress\",\"% Frequent Mental Distress\",\"% Adults with Diabetes\",\"% Food Insecure\",\"% Limited Access to Healthy Foods\",\"% Insufficient Sleep\",\"Median Household Income\",\"% Enrolled in Free or Reduced Lunch\",\"% Homeowners\",\"Population\",\"% Less Than 18 Years of Age\",\"% 65 and Over\",\"% Black\",\"% American Indian & Alaska Native\",\"% Asian\",\"per_gop\",\"People per square KM\"]\n",
    "\n",
    "\n",
    "# identifying the independant variables"
   ]
  },
  {
   "cell_type": "code",
   "execution_count": 15,
   "metadata": {},
   "outputs": [],
   "source": [
    "x=cleanerdf.loc[:,xcolumns].values\n",
    "y=df.loc[:,\"deaths by county\"].values\n",
    "\n",
    "\n",
    "# identifying the dependant variable\n"
   ]
  },
  {
   "cell_type": "code",
   "execution_count": 22,
   "metadata": {},
   "outputs": [],
   "source": [
    "x = StandardScaler().fit_transform(x)\n",
    "\n",
    "# standarizing the data"
   ]
  },
  {
   "cell_type": "code",
   "execution_count": 23,
   "metadata": {},
   "outputs": [],
   "source": [
    "from sklearn.decomposition import PCA\n",
    "pca = PCA(n_components=10)\n",
    "principalComponents = pca.fit_transform(x)\n",
    "principalDf = pd.DataFrame(data = principalComponents\n",
    "             , columns = ['principal component 1', 'principal component 2', 'principal component 3', 'principal component 4', 'principal component 5', 'principal component 6', 'principal component 7', 'principal component 8', 'principal component 9', 'principal component 10'])\n",
    "\n",
    "\n",
    "# creating 10 PCA variables"
   ]
  },
  {
   "cell_type": "code",
   "execution_count": 24,
   "metadata": {},
   "outputs": [],
   "source": [
    "finalDf = pd.concat([principalDf, cleanerdf[[\"deaths by county\"]]], axis = 1)\n",
    "\n",
    "#combining the PCA variables with the dependant variable"
   ]
  },
  {
   "cell_type": "code",
   "execution_count": 25,
   "metadata": {},
   "outputs": [
    {
     "data": {
      "text/plain": [
       "array([0.30687603, 0.15590597, 0.07593954, 0.05935725, 0.04843535,\n",
       "       0.04437711, 0.03526152, 0.02639901, 0.02516538, 0.02176982])"
      ]
     },
     "execution_count": 25,
     "metadata": {},
     "output_type": "execute_result"
    }
   ],
   "source": [
    "pca.explained_variance_ratio_"
   ]
  },
  {
   "cell_type": "code",
   "execution_count": 26,
   "metadata": {},
   "outputs": [],
   "source": [
    "xcolumns=['principal component 1', 'principal component 2', 'principal component 3', 'principal component 4', 'principal component 5', 'principal component 6', 'principal component 7', 'principal component 8', 'principal component 9', 'principal component 10']\n",
    "y=finalDf[\"deaths by county\"]"
   ]
  },
  {
   "cell_type": "code",
   "execution_count": 27,
   "metadata": {},
   "outputs": [
    {
     "name": "stdout",
     "output_type": "stream",
     "text": [
      "                                 OLS Regression Results                                \n",
      "=======================================================================================\n",
      "Dep. Variable:       deaths by county   R-squared (uncentered):                   0.064\n",
      "Model:                            OLS   Adj. R-squared (uncentered):              0.061\n",
      "Method:                 Least Squares   F-statistic:                              21.50\n",
      "Date:                Tue, 06 Jul 2021   Prob (F-statistic):                    3.06e-39\n",
      "Time:                        01:09:31   Log-Likelihood:                          270.36\n",
      "No. Observations:                3142   AIC:                                     -520.7\n",
      "Df Residuals:                    3132   BIC:                                     -460.2\n",
      "Df Model:                          10                                                  \n",
      "Covariance Type:            nonrobust                                                  \n",
      "==========================================================================================\n",
      "                             coef    std err          t      P>|t|      [0.025      0.975]\n",
      "------------------------------------------------------------------------------------------\n",
      "principal component 1      0.0108      0.001      9.809      0.000       0.009       0.013\n",
      "principal component 2     -0.0010      0.002     -0.640      0.522      -0.004       0.002\n",
      "principal component 3     -0.0039      0.002     -1.754      0.079      -0.008       0.000\n",
      "principal component 4     -0.0015      0.003     -0.586      0.558      -0.006       0.003\n",
      "principal component 5      0.0060      0.003      2.166      0.030       0.001       0.011\n",
      "principal component 6     -0.0205      0.003     -7.055      0.000      -0.026      -0.015\n",
      "principal component 7      0.0218      0.003      6.683      0.000       0.015       0.028\n",
      "principal component 8      0.0069      0.004      1.833      0.067      -0.000       0.014\n",
      "principal component 9      0.0086      0.004      2.219      0.027       0.001       0.016\n",
      "principal component 10     0.0114      0.004      2.753      0.006       0.003       0.020\n",
      "==============================================================================\n",
      "Omnibus:                      891.912   Durbin-Watson:                   0.311\n",
      "Prob(Omnibus):                  0.000   Jarque-Bera (JB):             3486.995\n",
      "Skew:                           1.352   Prob(JB):                         0.00\n",
      "Kurtosis:                       7.396   Cond. No.                         3.75\n",
      "==============================================================================\n",
      "\n",
      "Warnings:\n",
      "[1] Standard Errors assume that the covariance matrix of the errors is correctly specified.\n"
     ]
    }
   ],
   "source": [
    "def get_stats():\n",
    "    x=finalDf[xcolumns]\n",
    "    results=sm.OLS(y,x).fit()\n",
    "    print(results.summary())\n",
    "get_stats()"
   ]
  },
  {
   "cell_type": "code",
   "execution_count": 28,
   "metadata": {},
   "outputs": [
    {
     "data": {
      "text/plain": [
       "LinearRegression(copy_X=True, fit_intercept=True, n_jobs=None, normalize=False)"
      ]
     },
     "execution_count": 28,
     "metadata": {},
     "output_type": "execute_result"
    }
   ],
   "source": [
    "from sklearn.model_selection import train_test_split\n",
    "from sklearn.linear_model import LinearRegression\n",
    "\n",
    "x=finalDf[xcolumns]\n",
    "x_train, x_test, y_train, y_test = train_test_split(x, y, test_size = 0.3)\n",
    "model=LinearRegression()\n",
    "model.fit(x_train,y_train)\n",
    "\n",
    "#creating the model"
   ]
  },
  {
   "cell_type": "code",
   "execution_count": 35,
   "metadata": {},
   "outputs": [
    {
     "data": {
      "text/plain": [
       "<matplotlib.collections.PathCollection at 0x7f8547209cd0>"
      ]
     },
     "execution_count": 35,
     "metadata": {},
     "output_type": "execute_result"
    },
    {
     "data": {
      "image/png": "[encoded data removed]",
      "text/plain": [
       "<Figure size 432x288 with 1 Axes>"
      ]
     },
     "metadata": {
      "needs_background": "light"
     },
     "output_type": "display_data"
    }
   ],
   "source": [
    "predictions = model.predict(x_test)\n",
    "plt.scatter(y_test, predictions)"
   ]
  },
  {
   "cell_type": "code",
   "execution_count": 36,
   "metadata": {},
   "outputs": [
    {
     "data": {
      "text/plain": [
       "(array([  8.,  94., 288., 316., 156.,  49.,  20.,   8.,   1.,   3.]),\n",
       " array([-0.26099703, -0.18362007, -0.10624311, -0.02886615,  0.0485108 ,\n",
       "         0.12588776,  0.20326472,  0.28064168,  0.35801864,  0.4353956 ,\n",
       "         0.51277256]),\n",
       " <a list of 10 Patch objects>)"
      ]
     },
     "execution_count": 36,
     "metadata": {},
     "output_type": "execute_result"
    },
    {
     "data": {
      "image/png": "[encoded data removed]",
      "text/plain": [
       "<Figure size 432x288 with 1 Axes>"
      ]
     },
     "metadata": {
      "needs_background": "light"
     },
     "output_type": "display_data"
    }
   ],
   "source": [
    "plt.hist(y_test - predictions)"
   ]
  },
  {
   "cell_type": "code",
   "execution_count": 37,
   "metadata": {},
   "outputs": [],
   "source": [
    "from sklearn import metrics"
   ]
  },
  {
   "cell_type": "code",
   "execution_count": 32,
   "metadata": {},
   "outputs": [
    {
     "data": {
      "text/plain": [
       "0.28642988464644326"
      ]
     },
     "execution_count": 32,
     "metadata": {},
     "output_type": "execute_result"
    }
   ],
   "source": [
    "from sklearn.metrics import r2_score\n",
    "\n",
    "metrics.r2_score(y_test, predictions)"
   ]
  },
  {
   "cell_type": "code",
   "execution_count": null,
   "metadata": {},
   "outputs": [],
   "source": []
  },
  {
   "cell_type": "code",
   "execution_count": null,
   "metadata": {},
   "outputs": [],
   "source": []
  },
  {
   "cell_type": "code",
   "execution_count": null,
   "metadata": {},
   "outputs": [],
   "source": []
  }
 ],
 "metadata": {
  "kernelspec": {
   "display_name": "Python 3",
   "language": "python",
   "name": "python3"
  },
  "language_info": {
   "codemirror_mode": {
    "name": "ipython",
    "version": 3
   },
   "file_extension": ".py",
   "mimetype": "text/x-python",
   "name": "python",
   "nbconvert_exporter": "python",
   "pygments_lexer": "ipython3",
   "version": "3.7.6"
  }
 },
 "nbformat": 4,
 "nbformat_minor": 4
}
